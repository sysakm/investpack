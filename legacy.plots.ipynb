{
 "cells": [
  {
   "cell_type": "code",
   "execution_count": 1,
   "metadata": {},
   "outputs": [],
   "source": [
    "from openbb_terminal.sdk import openbb\n",
    "\n",
    "import datetime\n",
    "import matplotlib.pyplot as plt\n",
    "import mplfinance as mpf\n",
    "import numpy as np\n",
    "import pandas as pd"
   ]
  },
  {
   "cell_type": "code",
   "execution_count": 2,
   "metadata": {},
   "outputs": [],
   "source": [
    "def ticker_to_yahoo_format(t):\n",
    "    return '.'.join(t.split(':')[::-1])[:-1]"
   ]
  },
  {
   "cell_type": "code",
   "execution_count": 3,
   "metadata": {},
   "outputs": [],
   "source": [
    "BA = (\"\"\"HKG:0388\n",
    "HKG:1299\n",
    "HKG:3968\n",
    "HKG:0939\n",
    "HKG:3988\"\"\", 'BA')\n",
    "CU = (\"\"\"HKG:2331\n",
    "HKG:0669\n",
    "HKG:2020\n",
    "HKG:6969\n",
    "HKG:0288\n",
    "HKG:9988\n",
    "HKG:2015\n",
    "HKG:9866\n",
    "HKG:9618\n",
    "HKG:9868\"\"\", 'CU')\n",
    "CO = (\"\"\"HKG:0338\n",
    "HKG:2600\n",
    "HKG:0857\n",
    "HKG:0386\n",
    "HKG:0836\n",
    "HKG:1088\n",
    "HKG:2688\"\"\", 'CO')\n",
    "IT = (\"\"\"HKG:0992\n",
    "HKG:1810\n",
    "HKG:0268\n",
    "HKG:1347\n",
    "HKG:3888\"\"\", 'IT')\n",
    "TC = (\"\"\"HKG:2518\n",
    "HKG:1024\n",
    "HKG:9888\n",
    "HKG:9999\n",
    "HKG:9626\n",
    "HKG:0700\"\"\", 'TC')\n",
    "RE = (\"\"\"HKG:2007\n",
    "HKG:6098\n",
    "HKG:0688\n",
    "HKG:0960\n",
    "HKG:1928\n",
    "HKG:1109\n",
    "HKG:1113\"\"\", 'RE')"
   ]
  },
  {
   "cell_type": "code",
   "execution_count": 4,
   "metadata": {
    "scrolled": false
   },
   "outputs": [
    {
     "data": {
      "text/html": [
       "<pre style=\"white-space:pre;overflow-x:auto;line-height:normal;font-family:Menlo,'DejaVu Sans Mono',consolas,'Courier New',monospace\">Loading Daily data for 0388.HK with starting period 2019-12-30.\n",
       "</pre>\n"
      ],
      "text/plain": [
       "Loading Daily data for 0388.HK with starting period 2019-12-30.\n"
      ]
     },
     "metadata": {},
     "output_type": "display_data"
    },
    {
     "data": {
      "text/html": [
       "<pre style=\"white-space:pre;overflow-x:auto;line-height:normal;font-family:Menlo,'DejaVu Sans Mono',consolas,'Courier New',monospace\">Loading Daily data for 1299.HK with starting period 2019-12-30.\n",
       "</pre>\n"
      ],
      "text/plain": [
       "Loading Daily data for 1299.HK with starting period 2019-12-30.\n"
      ]
     },
     "metadata": {},
     "output_type": "display_data"
    },
    {
     "data": {
      "text/html": [
       "<pre style=\"white-space:pre;overflow-x:auto;line-height:normal;font-family:Menlo,'DejaVu Sans Mono',consolas,'Courier New',monospace\">Loading Daily data for 3968.HK with starting period 2019-12-30.\n",
       "</pre>\n"
      ],
      "text/plain": [
       "Loading Daily data for 3968.HK with starting period 2019-12-30.\n"
      ]
     },
     "metadata": {},
     "output_type": "display_data"
    },
    {
     "data": {
      "text/html": [
       "<pre style=\"white-space:pre;overflow-x:auto;line-height:normal;font-family:Menlo,'DejaVu Sans Mono',consolas,'Courier New',monospace\">Loading Daily data for 0939.HK with starting period 2019-12-30.\n",
       "</pre>\n"
      ],
      "text/plain": [
       "Loading Daily data for 0939.HK with starting period 2019-12-30.\n"
      ]
     },
     "metadata": {},
     "output_type": "display_data"
    },
    {
     "data": {
      "text/html": [
       "<pre style=\"white-space:pre;overflow-x:auto;line-height:normal;font-family:Menlo,'DejaVu Sans Mono',consolas,'Courier New',monospace\">Loading Daily data for 3988.HK with starting period 2019-12-30.\n",
       "</pre>\n"
      ],
      "text/plain": [
       "Loading Daily data for 3988.HK with starting period 2019-12-30.\n"
      ]
     },
     "metadata": {},
     "output_type": "display_data"
    },
    {
     "data": {
      "text/html": [
       "<pre style=\"white-space:pre;overflow-x:auto;line-height:normal;font-family:Menlo,'DejaVu Sans Mono',consolas,'Courier New',monospace\">Loading Daily data for 2331.HK with starting period 2019-12-30.\n",
       "</pre>\n"
      ],
      "text/plain": [
       "Loading Daily data for 2331.HK with starting period 2019-12-30.\n"
      ]
     },
     "metadata": {},
     "output_type": "display_data"
    },
    {
     "data": {
      "text/html": [
       "<pre style=\"white-space:pre;overflow-x:auto;line-height:normal;font-family:Menlo,'DejaVu Sans Mono',consolas,'Courier New',monospace\">Loading Daily data for 0669.HK with starting period 2019-12-30.\n",
       "</pre>\n"
      ],
      "text/plain": [
       "Loading Daily data for 0669.HK with starting period 2019-12-30.\n"
      ]
     },
     "metadata": {},
     "output_type": "display_data"
    },
    {
     "data": {
      "text/html": [
       "<pre style=\"white-space:pre;overflow-x:auto;line-height:normal;font-family:Menlo,'DejaVu Sans Mono',consolas,'Courier New',monospace\">Loading Daily data for 2020.HK with starting period 2019-12-30.\n",
       "</pre>\n"
      ],
      "text/plain": [
       "Loading Daily data for 2020.HK with starting period 2019-12-30.\n"
      ]
     },
     "metadata": {},
     "output_type": "display_data"
    },
    {
     "data": {
      "text/html": [
       "<pre style=\"white-space:pre;overflow-x:auto;line-height:normal;font-family:Menlo,'DejaVu Sans Mono',consolas,'Courier New',monospace\">Loading Daily data for 6969.HK with starting period 2020-07-10.\n",
       "</pre>\n"
      ],
      "text/plain": [
       "Loading Daily data for 6969.HK with starting period 2020-07-10.\n"
      ]
     },
     "metadata": {},
     "output_type": "display_data"
    },
    {
     "data": {
      "text/html": [
       "<pre style=\"white-space:pre;overflow-x:auto;line-height:normal;font-family:Menlo,'DejaVu Sans Mono',consolas,'Courier New',monospace\">Loading Daily data for 0288.HK with starting period 2019-12-30.\n",
       "</pre>\n"
      ],
      "text/plain": [
       "Loading Daily data for 0288.HK with starting period 2019-12-30.\n"
      ]
     },
     "metadata": {},
     "output_type": "display_data"
    },
    {
     "data": {
      "text/html": [
       "<pre style=\"white-space:pre;overflow-x:auto;line-height:normal;font-family:Menlo,'DejaVu Sans Mono',consolas,'Courier New',monospace\">Loading Daily data for 9988.HK with starting period 2019-12-30.\n",
       "</pre>\n"
      ],
      "text/plain": [
       "Loading Daily data for 9988.HK with starting period 2019-12-30.\n"
      ]
     },
     "metadata": {},
     "output_type": "display_data"
    },
    {
     "data": {
      "text/html": [
       "<pre style=\"white-space:pre;overflow-x:auto;line-height:normal;font-family:Menlo,'DejaVu Sans Mono',consolas,'Courier New',monospace\">Loading Daily data for 2015.HK with starting period 2021-08-12.\n",
       "</pre>\n"
      ],
      "text/plain": [
       "Loading Daily data for 2015.HK with starting period 2021-08-12.\n"
      ]
     },
     "metadata": {},
     "output_type": "display_data"
    },
    {
     "data": {
      "text/html": [
       "<pre style=\"white-space:pre;overflow-x:auto;line-height:normal;font-family:Menlo,'DejaVu Sans Mono',consolas,'Courier New',monospace\">Loading Daily data for 9866.HK with starting period 2022-03-10.\n",
       "</pre>\n"
      ],
      "text/plain": [
       "Loading Daily data for 9866.HK with starting period 2022-03-10.\n"
      ]
     },
     "metadata": {},
     "output_type": "display_data"
    },
    {
     "data": {
      "text/html": [
       "<pre style=\"white-space:pre;overflow-x:auto;line-height:normal;font-family:Menlo,'DejaVu Sans Mono',consolas,'Courier New',monospace\">Loading Daily data for 9618.HK with starting period 2020-06-18.\n",
       "</pre>\n"
      ],
      "text/plain": [
       "Loading Daily data for 9618.HK with starting period 2020-06-18.\n"
      ]
     },
     "metadata": {},
     "output_type": "display_data"
    },
    {
     "data": {
      "text/html": [
       "<pre style=\"white-space:pre;overflow-x:auto;line-height:normal;font-family:Menlo,'DejaVu Sans Mono',consolas,'Courier New',monospace\">Loading Daily data for 9868.HK with starting period 2021-07-07.\n",
       "</pre>\n"
      ],
      "text/plain": [
       "Loading Daily data for 9868.HK with starting period 2021-07-07.\n"
      ]
     },
     "metadata": {},
     "output_type": "display_data"
    },
    {
     "data": {
      "text/html": [
       "<pre style=\"white-space:pre;overflow-x:auto;line-height:normal;font-family:Menlo,'DejaVu Sans Mono',consolas,'Courier New',monospace\">Loading Daily data for 0338.HK with starting period 2019-12-30.\n",
       "</pre>\n"
      ],
      "text/plain": [
       "Loading Daily data for 0338.HK with starting period 2019-12-30.\n"
      ]
     },
     "metadata": {},
     "output_type": "display_data"
    },
    {
     "data": {
      "text/html": [
       "<pre style=\"white-space:pre;overflow-x:auto;line-height:normal;font-family:Menlo,'DejaVu Sans Mono',consolas,'Courier New',monospace\">Loading Daily data for 2600.HK with starting period 2019-12-30.\n",
       "</pre>\n"
      ],
      "text/plain": [
       "Loading Daily data for 2600.HK with starting period 2019-12-30.\n"
      ]
     },
     "metadata": {},
     "output_type": "display_data"
    },
    {
     "data": {
      "text/html": [
       "<pre style=\"white-space:pre;overflow-x:auto;line-height:normal;font-family:Menlo,'DejaVu Sans Mono',consolas,'Courier New',monospace\">Loading Daily data for 0857.HK with starting period 2019-12-30.\n",
       "</pre>\n"
      ],
      "text/plain": [
       "Loading Daily data for 0857.HK with starting period 2019-12-30.\n"
      ]
     },
     "metadata": {},
     "output_type": "display_data"
    },
    {
     "data": {
      "text/html": [
       "<pre style=\"white-space:pre;overflow-x:auto;line-height:normal;font-family:Menlo,'DejaVu Sans Mono',consolas,'Courier New',monospace\">Loading Daily data for 0386.HK with starting period 2019-12-30.\n",
       "</pre>\n"
      ],
      "text/plain": [
       "Loading Daily data for 0386.HK with starting period 2019-12-30.\n"
      ]
     },
     "metadata": {},
     "output_type": "display_data"
    },
    {
     "data": {
      "text/html": [
       "<pre style=\"white-space:pre;overflow-x:auto;line-height:normal;font-family:Menlo,'DejaVu Sans Mono',consolas,'Courier New',monospace\">Loading Daily data for 0836.HK with starting period 2019-12-30.\n",
       "</pre>\n"
      ],
      "text/plain": [
       "Loading Daily data for 0836.HK with starting period 2019-12-30.\n"
      ]
     },
     "metadata": {},
     "output_type": "display_data"
    },
    {
     "data": {
      "text/html": [
       "<pre style=\"white-space:pre;overflow-x:auto;line-height:normal;font-family:Menlo,'DejaVu Sans Mono',consolas,'Courier New',monospace\">Loading Daily data for 1088.HK with starting period 2019-12-30.\n",
       "</pre>\n"
      ],
      "text/plain": [
       "Loading Daily data for 1088.HK with starting period 2019-12-30.\n"
      ]
     },
     "metadata": {},
     "output_type": "display_data"
    },
    {
     "data": {
      "text/html": [
       "<pre style=\"white-space:pre;overflow-x:auto;line-height:normal;font-family:Menlo,'DejaVu Sans Mono',consolas,'Courier New',monospace\">Loading Daily data for 2688.HK with starting period 2019-12-30.\n",
       "</pre>\n"
      ],
      "text/plain": [
       "Loading Daily data for 2688.HK with starting period 2019-12-30.\n"
      ]
     },
     "metadata": {},
     "output_type": "display_data"
    },
    {
     "data": {
      "text/html": [
       "<pre style=\"white-space:pre;overflow-x:auto;line-height:normal;font-family:Menlo,'DejaVu Sans Mono',consolas,'Courier New',monospace\">Loading Daily data for 0992.HK with starting period 2019-12-30.\n",
       "</pre>\n"
      ],
      "text/plain": [
       "Loading Daily data for 0992.HK with starting period 2019-12-30.\n"
      ]
     },
     "metadata": {},
     "output_type": "display_data"
    },
    {
     "data": {
      "text/html": [
       "<pre style=\"white-space:pre;overflow-x:auto;line-height:normal;font-family:Menlo,'DejaVu Sans Mono',consolas,'Courier New',monospace\">Loading Daily data for 1810.HK with starting period 2019-12-30.\n",
       "</pre>\n"
      ],
      "text/plain": [
       "Loading Daily data for 1810.HK with starting period 2019-12-30.\n"
      ]
     },
     "metadata": {},
     "output_type": "display_data"
    },
    {
     "data": {
      "text/html": [
       "<pre style=\"white-space:pre;overflow-x:auto;line-height:normal;font-family:Menlo,'DejaVu Sans Mono',consolas,'Courier New',monospace\">Loading Daily data for 0268.HK with starting period 2019-12-30.\n",
       "</pre>\n"
      ],
      "text/plain": [
       "Loading Daily data for 0268.HK with starting period 2019-12-30.\n"
      ]
     },
     "metadata": {},
     "output_type": "display_data"
    },
    {
     "data": {
      "text/html": [
       "<pre style=\"white-space:pre;overflow-x:auto;line-height:normal;font-family:Menlo,'DejaVu Sans Mono',consolas,'Courier New',monospace\">Loading Daily data for 1347.HK with starting period 2019-12-30.\n",
       "</pre>\n"
      ],
      "text/plain": [
       "Loading Daily data for 1347.HK with starting period 2019-12-30.\n"
      ]
     },
     "metadata": {},
     "output_type": "display_data"
    },
    {
     "data": {
      "text/html": [
       "<pre style=\"white-space:pre;overflow-x:auto;line-height:normal;font-family:Menlo,'DejaVu Sans Mono',consolas,'Courier New',monospace\">Loading Daily data for 3888.HK with starting period 2019-12-30.\n",
       "</pre>\n"
      ],
      "text/plain": [
       "Loading Daily data for 3888.HK with starting period 2019-12-30.\n"
      ]
     },
     "metadata": {},
     "output_type": "display_data"
    },
    {
     "data": {
      "text/html": [
       "<pre style=\"white-space:pre;overflow-x:auto;line-height:normal;font-family:Menlo,'DejaVu Sans Mono',consolas,'Courier New',monospace\">Loading Daily data for 2518.HK with starting period 2021-03-15.\n",
       "</pre>\n"
      ],
      "text/plain": [
       "Loading Daily data for 2518.HK with starting period 2021-03-15.\n"
      ]
     },
     "metadata": {},
     "output_type": "display_data"
    },
    {
     "data": {
      "text/html": [
       "<pre style=\"white-space:pre;overflow-x:auto;line-height:normal;font-family:Menlo,'DejaVu Sans Mono',consolas,'Courier New',monospace\">Loading Daily data for 1024.HK with starting period 2021-02-05.\n",
       "</pre>\n"
      ],
      "text/plain": [
       "Loading Daily data for 1024.HK with starting period 2021-02-05.\n"
      ]
     },
     "metadata": {},
     "output_type": "display_data"
    },
    {
     "data": {
      "text/html": [
       "<pre style=\"white-space:pre;overflow-x:auto;line-height:normal;font-family:Menlo,'DejaVu Sans Mono',consolas,'Courier New',monospace\">Loading Daily data for 9888.HK with starting period 2021-03-23.\n",
       "</pre>\n"
      ],
      "text/plain": [
       "Loading Daily data for 9888.HK with starting period 2021-03-23.\n"
      ]
     },
     "metadata": {},
     "output_type": "display_data"
    },
    {
     "data": {
      "text/html": [
       "<pre style=\"white-space:pre;overflow-x:auto;line-height:normal;font-family:Menlo,'DejaVu Sans Mono',consolas,'Courier New',monospace\">Loading Daily data for 9999.HK with starting period 2020-06-11.\n",
       "</pre>\n"
      ],
      "text/plain": [
       "Loading Daily data for 9999.HK with starting period 2020-06-11.\n"
      ]
     },
     "metadata": {},
     "output_type": "display_data"
    },
    {
     "data": {
      "text/html": [
       "<pre style=\"white-space:pre;overflow-x:auto;line-height:normal;font-family:Menlo,'DejaVu Sans Mono',consolas,'Courier New',monospace\">Loading Daily data for 9626.HK with starting period 2021-03-29.\n",
       "</pre>\n"
      ],
      "text/plain": [
       "Loading Daily data for 9626.HK with starting period 2021-03-29.\n"
      ]
     },
     "metadata": {},
     "output_type": "display_data"
    },
    {
     "data": {
      "text/html": [
       "<pre style=\"white-space:pre;overflow-x:auto;line-height:normal;font-family:Menlo,'DejaVu Sans Mono',consolas,'Courier New',monospace\">Loading Daily data for 0700.HK with starting period 2019-12-30.\n",
       "</pre>\n"
      ],
      "text/plain": [
       "Loading Daily data for 0700.HK with starting period 2019-12-30.\n"
      ]
     },
     "metadata": {},
     "output_type": "display_data"
    },
    {
     "data": {
      "text/html": [
       "<pre style=\"white-space:pre;overflow-x:auto;line-height:normal;font-family:Menlo,'DejaVu Sans Mono',consolas,'Courier New',monospace\">Loading Daily data for 2007.HK with starting period 2019-12-30.\n",
       "</pre>\n"
      ],
      "text/plain": [
       "Loading Daily data for 2007.HK with starting period 2019-12-30.\n"
      ]
     },
     "metadata": {},
     "output_type": "display_data"
    },
    {
     "data": {
      "text/html": [
       "<pre style=\"white-space:pre;overflow-x:auto;line-height:normal;font-family:Menlo,'DejaVu Sans Mono',consolas,'Courier New',monospace\">Loading Daily data for 6098.HK with starting period 2019-12-30.\n",
       "</pre>\n"
      ],
      "text/plain": [
       "Loading Daily data for 6098.HK with starting period 2019-12-30.\n"
      ]
     },
     "metadata": {},
     "output_type": "display_data"
    },
    {
     "data": {
      "text/html": [
       "<pre style=\"white-space:pre;overflow-x:auto;line-height:normal;font-family:Menlo,'DejaVu Sans Mono',consolas,'Courier New',monospace\">Loading Daily data for 0688.HK with starting period 2019-12-30.\n",
       "</pre>\n"
      ],
      "text/plain": [
       "Loading Daily data for 0688.HK with starting period 2019-12-30.\n"
      ]
     },
     "metadata": {},
     "output_type": "display_data"
    },
    {
     "data": {
      "text/html": [
       "<pre style=\"white-space:pre;overflow-x:auto;line-height:normal;font-family:Menlo,'DejaVu Sans Mono',consolas,'Courier New',monospace\">Loading Daily data for 0960.HK with starting period 2019-12-30.\n",
       "</pre>\n"
      ],
      "text/plain": [
       "Loading Daily data for 0960.HK with starting period 2019-12-30.\n"
      ]
     },
     "metadata": {},
     "output_type": "display_data"
    },
    {
     "data": {
      "text/html": [
       "<pre style=\"white-space:pre;overflow-x:auto;line-height:normal;font-family:Menlo,'DejaVu Sans Mono',consolas,'Courier New',monospace\">Loading Daily data for 1928.HK with starting period 2019-12-30.\n",
       "</pre>\n"
      ],
      "text/plain": [
       "Loading Daily data for 1928.HK with starting period 2019-12-30.\n"
      ]
     },
     "metadata": {},
     "output_type": "display_data"
    },
    {
     "data": {
      "text/html": [
       "<pre style=\"white-space:pre;overflow-x:auto;line-height:normal;font-family:Menlo,'DejaVu Sans Mono',consolas,'Courier New',monospace\">Loading Daily data for 1109.HK with starting period 2019-12-30.\n",
       "</pre>\n"
      ],
      "text/plain": [
       "Loading Daily data for 1109.HK with starting period 2019-12-30.\n"
      ]
     },
     "metadata": {},
     "output_type": "display_data"
    },
    {
     "data": {
      "text/html": [
       "<pre style=\"white-space:pre;overflow-x:auto;line-height:normal;font-family:Menlo,'DejaVu Sans Mono',consolas,'Courier New',monospace\">Loading Daily data for 1113.HK with starting period 2019-12-30.\n",
       "</pre>\n"
      ],
      "text/plain": [
       "Loading Daily data for 1113.HK with starting period 2019-12-30.\n"
      ]
     },
     "metadata": {},
     "output_type": "display_data"
    }
   ],
   "source": [
    "for tickers, field in [BA, CU, CO, IT, TC, RE]:\n",
    "    for ticker in tickers.split('\\n'):\n",
    "        data = openbb.stocks.load(ticker_to_yahoo_format(ticker))\n",
    "        fig, axlist = mpf.plot(\n",
    "            data,\n",
    "            type='line',\n",
    "            mav=(50, 200),\n",
    "            volume=True,\n",
    "            show_nontrading=True,\n",
    "            figsize=(10, 4), xrotation=90, tight_layout=True, returnfig=True)\n",
    "        axlist[-2].xaxis.set_ticks(data.index[::len(data)//20])\n",
    "        axlist[-2].set_xticklabels(data.index[::len(data)//20].strftime('%Y.%m.%d'))\n",
    "        axlist[0].legend()\n",
    "        axlist[0].set_title(\n",
    "            field + ' | ' + ticker + ' | ' + f'{data.index[-1].date()}: Price={data[\"Close\"][-1]:.2f}, MA50={data[\"Close\"].rolling(window=50).mean()[-1]:.2f}'\n",
    "            f', MA200={data[\"Close\"].rolling(window=200).mean()[-1]:.2f}',\n",
    "            loc='left')\n",
    "        plt.savefig(f'entry_images/{field}_{ticker}_whole.jpg', format='jpg', bbox_inches='tight')\n",
    "        plt.close()\n",
    "        \n",
    "        fig, axlist = mpf.plot(\n",
    "            data,\n",
    "            type='candle',\n",
    "            mav=(50, 200),\n",
    "            volume=True,\n",
    "            show_nontrading=True,\n",
    "            figsize=(10, 4), xrotation=90, tight_layout=True, returnfig=True, warn_too_much_data=2020000000)\n",
    "\n",
    "        mask = data.index > data.index[-1] - datetime.timedelta(days=180)\n",
    "        ymax = max(\n",
    "            data.loc[mask, 'High'].max(),\n",
    "            data['Close'].rolling(window=50).mean()[mask].max(),\n",
    "            data['Close'].rolling(window=200).mean()[mask].max()\n",
    "        ) * 1.05\n",
    "        ymin = min(\n",
    "            data.loc[mask, 'Low'].min(),\n",
    "            data['Close'].rolling(window=50).mean()[mask].min(),\n",
    "            data['Close'].rolling(window=200).mean()[mask].min()\n",
    "        ) * 0.95\n",
    "\n",
    "        axlist[-2].xaxis.set_ticks(data.index[::len(data)//100])\n",
    "        axlist[-2].set_xticklabels(data.index[::len(data)//100].strftime('%Y.%m.%d'))\n",
    "        axlist[-2].set_xlim(data.index[-1] - datetime.timedelta(days=180), data.index[-1])\n",
    "        axlist[0].set_ylim(ymin, ymax)\n",
    "        axlist[0].set_xlim(data.index[-1] - datetime.timedelta(days=180), data.index[-1])\n",
    "        axlist[0].legend()\n",
    "        axlist[0].set_title(\n",
    "            field + ' | ' + ticker + ' | ' + f'{data.index[-1].date()}: Price={data[\"Close\"][-1]:.2f}, MA50={data[\"Close\"].rolling(window=50).mean()[-1]:.2f}'\n",
    "            f', MA200={data[\"Close\"].rolling(window=200).mean()[-1]:.2f}',\n",
    "            loc='left')\n",
    "        plt.savefig(f'entry_images/{field}_{ticker}_6m.jpg', format='jpg', bbox_inches='tight')\n",
    "        plt.close()\n"
   ]
  },
  {
   "cell_type": "code",
   "execution_count": 126,
   "metadata": {},
   "outputs": [
    {
     "data": {
      "text/plain": [
       "(1.0, 6.335449997186661)"
      ]
     },
     "execution_count": 126,
     "metadata": {},
     "output_type": "execute_result"
    }
   ],
   "source": [
    "ymin, ymax"
   ]
  },
  {
   "cell_type": "code",
   "execution_count": 106,
   "metadata": {},
   "outputs": [
    {
     "data": {
      "text/plain": [
       "<AxesSubplot: xlabel='date'>"
      ]
     },
     "execution_count": 106,
     "metadata": {},
     "output_type": "execute_result"
    },
    {
     "data": {
      "image/png": "[encoded data removed]",
      "text/plain": [
       "<Figure size 640x480 with 1 Axes>"
      ]
     },
     "metadata": {},
     "output_type": "display_data"
    }
   ],
   "source": []
  },
  {
   "cell_type": "code",
   "execution_count": 92,
   "metadata": {},
   "outputs": [
    {
     "data": {
      "text/html": [
       "<div>\n",
       "<style scoped>\n",
       "    .dataframe tbody tr th:only-of-type {\n",
       "        vertical-align: middle;\n",
       "    }\n",
       "\n",
       "    .dataframe tbody tr th {\n",
       "        vertical-align: top;\n",
       "    }\n",
       "\n",
       "    .dataframe thead th {\n",
       "        text-align: right;\n",
       "    }\n",
       "</style>\n",
       "<table border=\"1\" class=\"dataframe\">\n",
       "  <thead>\n",
       "    <tr style=\"text-align: right;\">\n",
       "      <th></th>\n",
       "      <th>Open</th>\n",
       "      <th>High</th>\n",
       "      <th>Low</th>\n",
       "      <th>Close</th>\n",
       "      <th>Adj Close</th>\n",
       "      <th>Volume</th>\n",
       "    </tr>\n",
       "    <tr>\n",
       "      <th>date</th>\n",
       "      <th></th>\n",
       "      <th></th>\n",
       "      <th></th>\n",
       "      <th></th>\n",
       "      <th></th>\n",
       "      <th></th>\n",
       "    </tr>\n",
       "  </thead>\n",
       "  <tbody>\n",
       "    <tr>\n",
       "      <th>2019-12-30</th>\n",
       "      <td>55.299999</td>\n",
       "      <td>55.799999</td>\n",
       "      <td>55.049999</td>\n",
       "      <td>55.799999</td>\n",
       "      <td>49.333168</td>\n",
       "      <td>3609764</td>\n",
       "    </tr>\n",
       "    <tr>\n",
       "      <th>2019-12-31</th>\n",
       "      <td>55.299999</td>\n",
       "      <td>56.299999</td>\n",
       "      <td>55.299999</td>\n",
       "      <td>56.250000</td>\n",
       "      <td>49.731018</td>\n",
       "      <td>3071107</td>\n",
       "    </tr>\n",
       "    <tr>\n",
       "      <th>2020-01-02</th>\n",
       "      <td>56.099998</td>\n",
       "      <td>56.650002</td>\n",
       "      <td>55.500000</td>\n",
       "      <td>55.950001</td>\n",
       "      <td>49.465786</td>\n",
       "      <td>3712586</td>\n",
       "    </tr>\n",
       "    <tr>\n",
       "      <th>2020-01-03</th>\n",
       "      <td>56.799999</td>\n",
       "      <td>56.799999</td>\n",
       "      <td>55.500000</td>\n",
       "      <td>55.650002</td>\n",
       "      <td>49.200558</td>\n",
       "      <td>3623342</td>\n",
       "    </tr>\n",
       "    <tr>\n",
       "      <th>2020-01-06</th>\n",
       "      <td>55.549999</td>\n",
       "      <td>55.549999</td>\n",
       "      <td>54.450001</td>\n",
       "      <td>54.849998</td>\n",
       "      <td>48.493263</td>\n",
       "      <td>4171199</td>\n",
       "    </tr>\n",
       "    <tr>\n",
       "      <th>...</th>\n",
       "      <td>...</td>\n",
       "      <td>...</td>\n",
       "      <td>...</td>\n",
       "      <td>...</td>\n",
       "      <td>...</td>\n",
       "      <td>...</td>\n",
       "    </tr>\n",
       "    <tr>\n",
       "      <th>2022-12-22</th>\n",
       "      <td>47.599998</td>\n",
       "      <td>48.450001</td>\n",
       "      <td>47.500000</td>\n",
       "      <td>48.299999</td>\n",
       "      <td>48.299999</td>\n",
       "      <td>4258183</td>\n",
       "    </tr>\n",
       "    <tr>\n",
       "      <th>2022-12-23</th>\n",
       "      <td>47.700001</td>\n",
       "      <td>48.500000</td>\n",
       "      <td>47.700001</td>\n",
       "      <td>48.250000</td>\n",
       "      <td>48.250000</td>\n",
       "      <td>2427602</td>\n",
       "    </tr>\n",
       "    <tr>\n",
       "      <th>2022-12-28</th>\n",
       "      <td>48.650002</td>\n",
       "      <td>48.750000</td>\n",
       "      <td>47.900002</td>\n",
       "      <td>48.000000</td>\n",
       "      <td>48.000000</td>\n",
       "      <td>3216763</td>\n",
       "    </tr>\n",
       "    <tr>\n",
       "      <th>2022-12-29</th>\n",
       "      <td>48.000000</td>\n",
       "      <td>48.450001</td>\n",
       "      <td>47.750000</td>\n",
       "      <td>48.000000</td>\n",
       "      <td>48.000000</td>\n",
       "      <td>3013086</td>\n",
       "    </tr>\n",
       "    <tr>\n",
       "      <th>2022-12-30</th>\n",
       "      <td>48.400002</td>\n",
       "      <td>48.450001</td>\n",
       "      <td>47.650002</td>\n",
       "      <td>48.049999</td>\n",
       "      <td>48.049999</td>\n",
       "      <td>2674602</td>\n",
       "    </tr>\n",
       "  </tbody>\n",
       "</table>\n",
       "<p>743 rows × 6 columns</p>\n",
       "</div>"
      ],
      "text/plain": [
       "                 Open       High        Low      Close  Adj Close   Volume\n",
       "date                                                                      \n",
       "2019-12-30  55.299999  55.799999  55.049999  55.799999  49.333168  3609764\n",
       "2019-12-31  55.299999  56.299999  55.299999  56.250000  49.731018  3071107\n",
       "2020-01-02  56.099998  56.650002  55.500000  55.950001  49.465786  3712586\n",
       "2020-01-03  56.799999  56.799999  55.500000  55.650002  49.200558  3623342\n",
       "2020-01-06  55.549999  55.549999  54.450001  54.849998  48.493263  4171199\n",
       "...               ...        ...        ...        ...        ...      ...\n",
       "2022-12-22  47.599998  48.450001  47.500000  48.299999  48.299999  4258183\n",
       "2022-12-23  47.700001  48.500000  47.700001  48.250000  48.250000  2427602\n",
       "2022-12-28  48.650002  48.750000  47.900002  48.000000  48.000000  3216763\n",
       "2022-12-29  48.000000  48.450001  47.750000  48.000000  48.000000  3013086\n",
       "2022-12-30  48.400002  48.450001  47.650002  48.049999  48.049999  2674602\n",
       "\n",
       "[743 rows x 6 columns]"
      ]
     },
     "execution_count": 92,
     "metadata": {},
     "output_type": "execute_result"
    }
   ],
   "source": [
    "data"
   ]
  },
  {
   "cell_type": "code",
   "execution_count": null,
   "metadata": {},
   "outputs": [],
   "source": []
  }
 ],
 "metadata": {
  "kernelspec": {
   "display_name": "Python 3 (ipykernel)",
   "language": "python",
   "name": "python3"
  },
  "language_info": {
   "codemirror_mode": {
    "name": "ipython",
    "version": 3
   },
   "file_extension": ".py",
   "mimetype": "text/x-python",
   "name": "python",
   "nbconvert_exporter": "python",
   "pygments_lexer": "ipython3",
   "version": "3.9.6"
  }
 },
 "nbformat": 4,
 "nbformat_minor": 4
}
